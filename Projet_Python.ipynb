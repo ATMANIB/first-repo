{
  "nbformat": 4,
  "nbformat_minor": 0,
  "metadata": {
    "colab": {
      "provenance": [],
      "authorship_tag": "ABX9TyOWqLkMVI6l89MEiZzTQ+op",
      "include_colab_link": true
    },
    "kernelspec": {
      "name": "python3",
      "display_name": "Python 3"
    },
    "language_info": {
      "name": "python"
    }
  },
  "cells": [
    {
      "cell_type": "markdown",
      "metadata": {
        "id": "view-in-github",
        "colab_type": "text"
      },
      "source": [
        "<a href=\"https://colab.research.google.com/github/ATMANIB/first-repo/blob/main/Projet_Python.ipynb\" target=\"_parent\"><img src=\"https://colab.research.google.com/assets/colab-badge.svg\" alt=\"Open In Colab\"/></a>"
      ]
    },
    {
      "cell_type": "code",
      "execution_count": 1,
      "metadata": {
        "colab": {
          "base_uri": "https://localhost:8080/"
        },
        "id": "BE3ePaqAO7QM",
        "outputId": "02dd9886-8a6b-4adb-a9d7-45b621e86726"
      },
      "outputs": [
        {
          "name": "stdout",
          "output_type": "stream",
          "text": [
            "\n",
            "Opérations disponibles: +, -, *, /, ^, √, log\n",
            "Entrez 'q' pour quitter ou un nombre: 5\n",
            "Opération: *\n",
            "Deuxième nombre: 20\n",
            "Résultat: 5.0 * 20.0 = 100.00\n",
            "\n",
            "Opérations disponibles: +, -, *, /, ^, √, log\n",
            "Entrez 'q' pour quitter ou un nombre: 40\n",
            "Opération: ^\n",
            "Deuxième nombre: 2\n",
            "Résultat: 40.0 ^ 2.0 = 1600.00\n",
            "\n",
            "Opérations disponibles: +, -, *, /, ^, √, log\n",
            "Entrez 'q' pour quitter ou un nombre: q\n"
          ]
        }
      ],
      "source": [
        "import math\n",
        "\n",
        "class Calculatrice:\n",
        "    def __init__(self):\n",
        "        self.operations = {\n",
        "            '+': lambda a, b: a + b,\n",
        "            '-': lambda a, b: a - b,\n",
        "            '*': lambda a, b: a * b,\n",
        "            '/': lambda a, b: a / b\n",
        "        }\n",
        "\n",
        "    def add_operation(self, symbole, fonction):\n",
        "        self.operations[symbole] = fonction\n",
        "\n",
        "    def calculate(self, num1, op, num2):\n",
        "        # Vérification des types\n",
        "        if not isinstance(num1, (int, float)) or not isinstance(num2, (int, float)):\n",
        "            raise ValueError(\"Les nombres doivent être de type int ou float\")\n",
        "\n",
        "        # Vérification de l'opération\n",
        "        if op not in self.operations:\n",
        "            raise ValueError(f\"Opération '{op}' non supportée\")\n",
        "\n",
        "        # Exécution du calcul\n",
        "        try:\n",
        "            return self.operations[op](num1, num2)\n",
        "        except ZeroDivisionError:\n",
        "            raise ValueError(\"Division par zéro impossible\")\n",
        "        except Exception as e:\n",
        "            raise ValueError(f\"Erreur lors du calcul: {str(e)}\")\n",
        "\n",
        "# Programme principal\n",
        "if __name__ == \"__main__\":\n",
        "    calc = Calculatrice()\n",
        "\n",
        "    # Ajout des opérations avancées\n",
        "    calc.add_operation('^', lambda a, b: a ** b)\n",
        "    calc.add_operation('√', lambda a, b: a ** (1/b))  # Racine n-ième (b = degré)\n",
        "    calc.add_operation('log', lambda a, b: math.log(a, b))\n",
        "\n",
        "    while True:\n",
        "        print(\"\\nOpérations disponibles:\", \", \".join(calc.operations.keys()))\n",
        "\n",
        "        # Saisie utilisateur\n",
        "        entree = input(\"Entrez 'q' pour quitter ou un nombre: \")\n",
        "        if entree.lower() == 'q':\n",
        "            break\n",
        "\n",
        "        try:\n",
        "            num1 = float(entree)\n",
        "            op = input(\"Opération: \")\n",
        "            num2 = float(input(\"Deuxième nombre: \"))\n",
        "\n",
        "            resultat = calc.calculate(num1, op, num2)\n",
        "            print(f\"Résultat: {num1} {op} {num2} = {resultat:.2f}\")\n",
        "\n",
        "        except ValueError as e:\n",
        "            print(f\"Erreur: {str(e)}\")\n",
        "        except Exception as e:\n",
        "            print(f\"Erreur inattendue: {str(e)}\")"
      ]
    }
  ]
}