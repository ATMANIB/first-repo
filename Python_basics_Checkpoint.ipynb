{
  "nbformat": 4,
  "nbformat_minor": 0,
  "metadata": {
    "colab": {
      "provenance": [],
      "authorship_tag": "ABX9TyN9vAsHNZj+VyTXGQREitQM",
      "include_colab_link": true
    },
    "kernelspec": {
      "name": "python3",
      "display_name": "Python 3"
    },
    "language_info": {
      "name": "python"
    }
  },
  "cells": [
    {
      "cell_type": "markdown",
      "metadata": {
        "id": "view-in-github",
        "colab_type": "text"
      },
      "source": [
        "<a href=\"https://colab.research.google.com/github/ATMANIB/first-repo/blob/main/Python_basics_Checkpoint.ipynb\" target=\"_parent\"><img src=\"https://colab.research.google.com/assets/colab-badge.svg\" alt=\"Open In Colab\"/></a>"
      ]
    },
    {
      "cell_type": "code",
      "execution_count": null,
      "metadata": {
        "colab": {
          "base_uri": "https://localhost:8080/"
        },
        "id": "LRU8VltX123k",
        "outputId": "1ec2f930-f14a-48f2-f6a1-2db2ed89d82a"
      },
      "outputs": [
        {
          "output_type": "stream",
          "name": "stdout",
          "text": [
            "Bienvenue dans le jeu Devinez le nombre!\n",
            "Bienvenue dans le jeu Devinez le nombre!\n",
            "je pense à un nombre entre 1 et 100. pouvez vous le deviner ?\n",
            "2 ***Résultat de la machine : à ne pas imprimer, à deviner***\n",
            "Entrez votre réponse (nombre entier entre 1 et 100): 101\n",
            "Veuillez entrer un nombre entre 1 et 100.Réessayez\n",
            "Entrez votre réponse (nombre entier entre 1 et 100): 99\n",
            "Votre réponse est trop élevée. Réessayez.\n",
            "Entrez votre réponse (nombre entier entre 1 et 100): 89\n",
            "Votre réponse est trop élevée. Réessayez.\n",
            "Entrez votre réponse (nombre entier entre 1 et 100): 1\n",
            "Votre réponse est trop basse. Réessayez.\n",
            "Entrez votre réponse (nombre entier entre 1 et 100): 2\n",
            "Félicitations ! Vous avez deviné le nombre correctement !\n"
          ]
        }
      ],
      "source": [
        "import random\n",
        "print(\"Bienvenue dans le jeu Devinez le nombre!\")\n",
        "print(\"Bienvenue dans le jeu Devinez le nombre!\")\n",
        "print(\"je pense à un nombre entre 1 et 100. pouvez vous le deviner ?\")\n",
        "Nombre_machine = random.randint(1,100)\n",
        "print(Nombre_machine,\"***Résultat de la machine : à ne pas imprimer, à deviner***\")\n",
        "while True:\n",
        "  reponse = input(\"Entrez votre réponse (nombre entier entre 1 et 100): \")\n",
        "  try:\n",
        "        reponse = int(reponse)\n",
        "  except ValueError:\n",
        "\n",
        "        print(\"Veuillez entrer un nombre valide.\")\n",
        "\n",
        "        continue\n",
        "  if reponse < 1 or reponse > 100:\n",
        "        print(\"Veuillez entrer un nombre entre 1 et 100.Réessayez\")\n",
        "        continue\n",
        "  if reponse < Nombre_machine:\n",
        "        print(\"Votre réponse est trop basse. Réessayez.\")\n",
        "  elif reponse > Nombre_machine:\n",
        "        print(\"Votre réponse est trop élevée. Réessayez.\")\n",
        "  else:\n",
        "        print(\"Félicitations ! Vous avez deviné le nombre correctement !\")\n",
        "        break"
      ]
    }
  ]
}