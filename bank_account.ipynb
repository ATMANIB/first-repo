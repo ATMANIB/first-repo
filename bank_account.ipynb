{
  "nbformat": 4,
  "nbformat_minor": 0,
  "metadata": {
    "colab": {
      "provenance": [],
      "authorship_tag": "ABX9TyMZ7fAXFIts/Yba/EEk0fMs",
      "include_colab_link": true
    },
    "kernelspec": {
      "name": "python3",
      "display_name": "Python 3"
    },
    "language_info": {
      "name": "python"
    }
  },
  "cells": [
    {
      "cell_type": "markdown",
      "metadata": {
        "id": "view-in-github",
        "colab_type": "text"
      },
      "source": [
        "<a href=\"https://colab.research.google.com/github/ATMANIB/first-repo/blob/main/bank_account.ipynb\" target=\"_parent\"><img src=\"https://colab.research.google.com/assets/colab-badge.svg\" alt=\"Open In Colab\"/></a>"
      ]
    },
    {
      "cell_type": "code",
      "execution_count": null,
      "metadata": {
        "colab": {
          "base_uri": "https://localhost:8080/"
        },
        "id": "HitoIXkjEa-f",
        "outputId": "9d433736-cc34-4c76-9b43-b61110851544"
      },
      "outputs": [
        {
          "output_type": "stream",
          "name": "stdout",
          "text": [
            "Dépôt de 500.0 effectué. Nouveau solde : 1500.0\n",
            "Retrait de 200.0 effectué. Nouveau solde : 1300.0\n",
            "Solde actuel : 1300.0\n",
            "Solde insuffisant pour effectuer le retrait.\n",
            "Dépôt de 200 effectué. Nouveau solde : 500.0\n",
            "Solde du compte 2 : 500.0\n"
          ]
        }
      ],
      "source": [
        "class Compte:\n",
        "    def __init__(self, numero_compte, titulaire, balance=0.0):\n",
        "        self.numero_compte = numero_compte\n",
        "        self.titulaire = titulaire\n",
        "        self.balance = balance\n",
        "\n",
        "    def depot(self, montant: float):\n",
        "        if montant > 0:\n",
        "            self.balance += montant\n",
        "            print(f\"Dépôt de {montant} effectué. Nouveau solde : {self.balance}\")\n",
        "        else:\n",
        "            print(\"Le montant du dépôt doit être positif.\")\n",
        "\n",
        "    def retirer(self, montant: float):\n",
        "        if montant <= 0:\n",
        "            print(\"Le montant du retrait doit être positif.\")\n",
        "        elif self.balance >= montant:\n",
        "            self.balance -= montant\n",
        "            print(f\"Retrait de {montant} effectué. Nouveau solde : {self.balance}\")\n",
        "        else:\n",
        "            print(\"Solde insuffisant pour effectuer le retrait.\")\n",
        "\n",
        "    def verifier_balance(self):\n",
        "        return self.balance\n",
        "\n",
        "\n",
        "# TEST DU PROGRAMME :\n",
        "\n",
        "# Création d'une instance de Compte\n",
        "compte1 = Compte(\"ACC001\", \"Bilal\", 1000.0)\n",
        "\n",
        "# Opérations sur le compte\n",
        "compte1.depot(500.0)\n",
        "compte1.retirer(200.0)\n",
        "print(\"Solde actuel :\", compte1.verifier_balance())\n",
        "\n",
        "# Création d'autres comptes pour test\n",
        "compte2 = Compte(\"ACC002\", \"ATMANI\", 300.0)\n",
        "compte2.retirer(400)  # test de solde insuffisant\n",
        "compte2.depot(200)\n",
        "print(\"Solde du compte 2 :\", compte2.verifier_balance())"
      ]
    }
  ]
}