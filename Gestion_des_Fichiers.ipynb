{
  "nbformat": 4,
  "nbformat_minor": 0,
  "metadata": {
    "colab": {
      "provenance": [],
      "authorship_tag": "ABX9TyOmD866hAYX72jjElj4IGmM",
      "include_colab_link": true
    },
    "kernelspec": {
      "name": "python3",
      "display_name": "Python 3"
    },
    "language_info": {
      "name": "python"
    }
  },
  "cells": [
    {
      "cell_type": "markdown",
      "metadata": {
        "id": "view-in-github",
        "colab_type": "text"
      },
      "source": [
        "<a href=\"https://colab.research.google.com/github/ATMANIB/first-repo/blob/main/Gestion_des_Fichiers.ipynb\" target=\"_parent\"><img src=\"https://colab.research.google.com/assets/colab-badge.svg\" alt=\"Open In Colab\"/></a>"
      ]
    },
    {
      "cell_type": "code",
      "source": [
        "import numpy as np\n",
        "\n",
        "# 1. Ouvrir le fichier avec gestion d'erreurs\n",
        "with open('Loan_prediction_dataset.csv', 'r', encoding='utf-8') as file:\n",
        "    # 2. Charger les données en spécifiant le type numérique et en gérant les erreurs\n",
        "    data = np.genfromtxt(\n",
        "        file,\n",
        "        delimiter=',',\n",
        "        skip_header=1,\n",
        "        usecols=(8),  # l'indice de la colonne \"montant des prêts\"\n",
        "        dtype=float,\n",
        "        missing_values=\" \",  # Gère les cellules vides\n",
        "        filling_values=np.nan # Remplace les valeurs manquantes par NaN\n",
        "    )\n",
        "\n",
        "nbr_data_brute=len(data)\n",
        "print(f\"Nombre de données brutes : {nbr_data_brute}\")\n",
        "\n",
        "\n",
        "# 3. Nettoyer les données (supprimer les NaN)\n",
        "\n",
        "cleaned_data = data[~np.isnan(data)]\n",
        "\n",
        "nbr_data_nettoyee=len(cleaned_data)\n",
        "print(f\"Nombre de données après nettoyage : {nbr_data_nettoyee}\")\n",
        "\n",
        "valeur_nettoyee=nbr_data_brute-nbr_data_nettoyee\n",
        "print(f\"Valeurs nettoyées : {valeur_nettoyee}\")\n",
        "\n",
        "# 4. Calculer les statistiques\n",
        "if len(cleaned_data) > 0:\n",
        "    moyenne = np.mean(cleaned_data)\n",
        "    mediane = np.median(cleaned_data)\n",
        "    ecart_type = np.std(cleaned_data)\n",
        "else:\n",
        "    moyenne = mediane = ecart_type = 0  # Cas où toutes les données sont invalides\n",
        "\n",
        "# 5. Afficher les résultats\n",
        "print(f\"Moyenne des prêts : {moyenne:.2f}\")\n",
        "print(f\"Médiane des prêts : {mediane:.2f}\")\n",
        "print(f\"Écart-type des prêts : {ecart_type:.2f}\")\n"
      ],
      "metadata": {
        "colab": {
          "base_uri": "https://localhost:8080/"
        },
        "id": "bmEpCWLfyKsd",
        "outputId": "e8ed9f28-e906-459a-fcec-55881e671335"
      },
      "execution_count": 29,
      "outputs": [
        {
          "output_type": "stream",
          "name": "stdout",
          "text": [
            "Nombre de données brutes : 614\n",
            "Nombre de données après nettoyage : 592\n",
            "Valeurs nettoyées : 22\n",
            "Moyenne des prêts : 146.41\n",
            "Médiane des prêts : 128.00\n",
            "Écart-type des prêts : 85.52\n"
          ]
        }
      ]
    }
  ]
}