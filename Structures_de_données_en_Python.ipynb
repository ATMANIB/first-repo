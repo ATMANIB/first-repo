{
  "nbformat": 4,
  "nbformat_minor": 0,
  "metadata": {
    "colab": {
      "provenance": [],
      "authorship_tag": "ABX9TyM93z6dug6XkltY9e7ypiFi",
      "include_colab_link": true
    },
    "kernelspec": {
      "name": "python3",
      "display_name": "Python 3"
    },
    "language_info": {
      "name": "python"
    }
  },
  "cells": [
    {
      "cell_type": "markdown",
      "metadata": {
        "id": "view-in-github",
        "colab_type": "text"
      },
      "source": [
        "<a href=\"https://colab.research.google.com/github/ATMANIB/first-repo/blob/main/Structures_de_donn%C3%A9es_en_Python.ipynb\" target=\"_parent\"><img src=\"https://colab.research.google.com/assets/colab-badge.svg\" alt=\"Open In Colab\"/></a>"
      ]
    },
    {
      "cell_type": "code",
      "execution_count": null,
      "metadata": {
        "colab": {
          "base_uri": "https://localhost:8080/"
        },
        "id": "mA0h5CzW8vbQ",
        "outputId": "1a0deef4-ffec-4ef2-81b7-7433238f53ae"
      },
      "outputs": [
        {
          "output_type": "stream",
          "name": "stdout",
          "text": [
            "Résultat = 36\n"
          ]
        }
      ],
      "source": [
        "# Question 1 : Multiplier tous les éléments d'une liste\n",
        "liste = [2, 3, 6]\n",
        "resultat = 1\n",
        "for x in liste:\n",
        "    resultat *= x\n",
        "print(\"Résultat =\", resultat)"
      ]
    },
    {
      "cell_type": "code",
      "source": [
        "# Question 2 : Trier une liste de tuples par le dernier élément\n",
        "tuple_liste = [(2, 5), (1, 2), (4, 4), (2, 3), (2, 1)]\n",
        "tuple_liste.sort(key=lambda x: x[-1])\n",
        "print(\"Résultat trié:\", tuple_liste)"
      ],
      "metadata": {
        "colab": {
          "base_uri": "https://localhost:8080/"
        },
        "id": "MBJjGc9k9EHs",
        "outputId": "78a7d011-d606-47b5-8f43-a1c5eca923fc"
      },
      "execution_count": null,
      "outputs": [
        {
          "output_type": "stream",
          "name": "stdout",
          "text": [
            "Résultat trié: [(2, 1), (1, 2), (2, 3), (4, 4), (2, 5)]\n"
          ]
        }
      ]
    },
    {
      "cell_type": "code",
      "source": [
        "# Question 3 : Combiner deux dictionnaires avec ajout des valeurs communes\n",
        "d1 = {'a': 100, 'b': 200, 'c': 300}\n",
        "d2 = {'a': 300, 'b': 200, 'd': 400}\n",
        "result = d1.copy()\n",
        "for key in d2:\n",
        "    if key in result:\n",
        "        result[key] += d2[key]\n",
        "    else:\n",
        "        result[key] = d2[key]\n",
        "print(\"Dictionnaire combiné:\", result)"
      ],
      "metadata": {
        "colab": {
          "base_uri": "https://localhost:8080/"
        },
        "id": "OjjM2rFNSxOf",
        "outputId": "f28534fa-0dd9-435b-d731-0f00bee49d28"
      },
      "execution_count": null,
      "outputs": [
        {
          "output_type": "stream",
          "name": "stdout",
          "text": [
            "Dictionnaire combiné: {'a': 400, 'b': 400, 'c': 300, 'd': 400}\n"
          ]
        }
      ]
    },
    {
      "cell_type": "code",
      "source": [
        "# Question 4 : Générer un dictionnaire {i: i*i} pour i de 1 à n\n",
        "n = 8\n",
        "dictionnaire = {i: i * i for i in range(1, n + 1)}\n",
        "print(\"Carrés:\", dictionnaire)"
      ],
      "metadata": {
        "colab": {
          "base_uri": "https://localhost:8080/"
        },
        "id": "98wszwQCXcEE",
        "outputId": "903cb191-48a7-4211-c187-8610593f9c39"
      },
      "execution_count": null,
      "outputs": [
        {
          "output_type": "stream",
          "name": "stdout",
          "text": [
            "Carrés: {1: 1, 2: 4, 3: 9, 4: 16, 5: 25, 6: 36, 7: 49, 8: 64}\n"
          ]
        }
      ]
    },
    {
      "cell_type": "code",
      "source": [
        "# Question 5 : Trier un tuple par son élément flottant\n",
        "tuple_list = [('item1', '12.20'), ('item2', '15.10'), ('item3', '24.5')]\n",
        "tuple_list.sort(key=lambda x: float(x[1]), reverse=True)\n",
        "print(\"Tri décroissant par float:\", tuple_list)"
      ],
      "metadata": {
        "colab": {
          "base_uri": "https://localhost:8080/"
        },
        "id": "IVEvTsvkZ_3u",
        "outputId": "6e62fe4b-c50c-4ec0-ab7f-91b73182db4c"
      },
      "execution_count": null,
      "outputs": [
        {
          "output_type": "stream",
          "name": "stdout",
          "text": [
            "Tri décroissant par float: [('item3', '24.5'), ('item2', '15.10'), ('item1', '12.20')]\n"
          ]
        }
      ]
    },
    {
      "cell_type": "code",
      "source": [
        "# Question 6 : Créer, itérer, ajouter et retirer dans un ensemble\n",
        "mon_ensemble = set(range(5))\n",
        "print(\"Ensemble:\", mon_ensemble)\n",
        "\n",
        "print(\"Itération:\")\n",
        "for element in mon_ensemble:\n",
        "    print(element)\n",
        "\n",
        "# Ajouter un élément\n",
        "mon_ensemble.add(5)\n",
        "print(\"Après ajout:\", mon_ensemble)\n",
        "\n",
        "# Retirer un élément\n",
        "mon_ensemble.discard(2)\n",
        "print(\"Après suppression:\", mon_ensemble)\n"
      ],
      "metadata": {
        "colab": {
          "base_uri": "https://localhost:8080/"
        },
        "id": "19Q5FI52eEAS",
        "outputId": "7ab8faed-6730-4c5d-b923-db6bc893a38b"
      },
      "execution_count": null,
      "outputs": [
        {
          "output_type": "stream",
          "name": "stdout",
          "text": [
            "Ensemble: {0, 1, 2, 3, 4}\n",
            "Itération:\n",
            "0\n",
            "1\n",
            "2\n",
            "3\n",
            "4\n",
            "Après ajout: {0, 1, 2, 3, 4, 5}\n",
            "Après suppression: {0, 1, 3, 4, 5}\n"
          ]
        }
      ]
    },
    {
      "cell_type": "code",
      "source": [],
      "metadata": {
        "id": "sbFmhYjnhFKm"
      },
      "execution_count": null,
      "outputs": []
    }
  ]
}